{
 "cells": [
  {
   "cell_type": "code",
   "execution_count": 55,
   "id": "b9543810",
   "metadata": {},
   "outputs": [
    {
     "ename": "IndentationError",
     "evalue": "unexpected indent (2730778233.py, line 67)",
     "output_type": "error",
     "traceback": [
      "\u001b[1;36m  File \u001b[1;32m\"C:\\Users\\yasha\\AppData\\Local\\Temp\\ipykernel_19360\\2730778233.py\"\u001b[1;36m, line \u001b[1;32m67\u001b[0m\n\u001b[1;33m    print (\"-----------------------------------------------------------------------------------------------\")\u001b[0m\n\u001b[1;37m    ^\u001b[0m\n\u001b[1;31mIndentationError\u001b[0m\u001b[1;31m:\u001b[0m unexpected indent\n"
     ]
    }
   ],
   "source": [
    "class Graph:\n",
    "    def __init__ (self, graph, heuristic, start_node):\n",
    "        self.graph = graph\n",
    "        self.H = heuristic\n",
    "        self.start = start_node\n",
    "        self.solution = {}\n",
    "        self.parent = {}\n",
    "        self.status = {}\n",
    "\n",
    "    def applyAOstar(self):\n",
    "        self.aostar (self.start, False)\n",
    "\n",
    "    def getstatus (self, v):\n",
    "        return self.status.get(v, 0)\n",
    "\n",
    "    def getheuristic (self, v):\n",
    "        return self.H.get (v, 0)\n",
    "\n",
    "\n",
    "    def getNeighbour(self, v):\n",
    "        return self.graph.get(v, '')\n",
    "\n",
    "    def setstatus (self, v, value):\n",
    "        self.status[v] = value\n",
    "\n",
    "    def setHeuristic (self, v, value):\n",
    "        self.H[v] = value\n",
    "\n",
    "    def printSolution (self):\n",
    "        print (\"FOR GRAPH SOLUTION, TRAVEL THE GRAPH FROM \", self.start)\n",
    "        print (\"-----------------------------------------------------------------------------------------------\")\n",
    "        print (\"solution is \", self.solution)\n",
    "        print (\"-----------------------------------------------------------------------------------------------\")\n",
    "\n",
    "    def getMinimumCostChildNodes (self, v):\n",
    "        minimum_cost = 0\n",
    "        min_cost_child_node_list_dict = {}\n",
    "        min_cost_child_node_list_dict[minimum_cost] = []\n",
    "        \n",
    "        flag = True\n",
    "        \n",
    "        for nodeTupleList in self.getNeighbour(v):\n",
    "            cost = 0\n",
    "            nodeList = []\n",
    "            for c, weight in nodeTupleList:\n",
    "                cost = cost + self.getheuristic(c) + weight\n",
    "                nodeList.append(c)\n",
    "\n",
    "            if flag == True:\n",
    "                minimum_cost = cost\n",
    "                min_cost_child_node_list_dict[minimum_cost] = nodeList\n",
    "                flag = False\n",
    "\n",
    "            else:\n",
    "                if minimum_cost > cost:\n",
    "                    minimum_cost = cost\n",
    "                    min_cost_child_node_list_dict[minimum_cost] = nodeList\n",
    "                    \n",
    "        return minimum_cost, min_cost_child_node_list_dict[minimum_cost]\n",
    "\n",
    "\n",
    "    def aostar (self, v, backTracking):\n",
    "        print (\"Heuristic values : \", self.H)\n",
    "        print (\"Solution graph : \", self.solution)\n",
    "        print (\"processing node : \", v)\n",
    "        \n",
    "        print (\"-----------------------------------------------------------------------------------------------\")\n",
    "\n",
    "        if (self.getstatus (v) >= 0):\n",
    "            min_cost, nodeList = self.getMinimumCostChildNodes (v)\n",
    "            self.setHeuristic (v, min_cost)\n",
    "            self.setstatus (v, len(nodeList))\n",
    "\n",
    "            solved = True\n",
    "\n",
    "            for node in nodeList:\n",
    "                self.parent [node] = v\n",
    "                if (self.getstatus (node) != -1):\n",
    "                    solved = solved & False\n",
    "\n",
    "            if solved == True:\n",
    "                self.setstatus(v, -1)\n",
    "                self.solution[v] = nodeList\n",
    "\n",
    "            if v != self.start:\n",
    "                self.aostar (self.parent[v], True)\n",
    "\n",
    "            if backTracking == False:\n",
    "                for node in nodeList:\n",
    "                    self.setstatus(node, 0)\n",
    "                    self.aostar (node, False)"
   ]
  },
  {
   "cell_type": "code",
   "execution_count": 56,
   "id": "42e632f5",
   "metadata": {},
   "outputs": [],
   "source": [
    "h1 = {\n",
    "    'A':1,\n",
    "    'B':6,\n",
    "    'C':2,\n",
    "    'D':12,\n",
    "    'E':2,\n",
    "    'F':1,\n",
    "    'G':5,\n",
    "    'H':7,\n",
    "    'I':7,\n",
    "    'J':1,\n",
    "    'T':3\n",
    "}"
   ]
  },
  {
   "cell_type": "code",
   "execution_count": 51,
   "id": "5b81a19f",
   "metadata": {},
   "outputs": [],
   "source": [
    "graph = {\n",
    "    'A': [[('B', 1), ('C', 1)], [('D', 1)]],\n",
    "    'B': [[('G', 1)], [('H', 1)]],\n",
    "    'C': [[('J', 1)]],\n",
    "    'D': [[('E', 1)], [('F', 1)]],\n",
    "    'G': [[('I', 1)]]\n",
    "}"
   ]
  },
  {
   "cell_type": "code",
   "execution_count": 52,
   "id": "90159f39",
   "metadata": {},
   "outputs": [],
   "source": [
    "G1 = Graph (graph, h1, 'A')"
   ]
  },
  {
   "cell_type": "code",
   "execution_count": 53,
   "id": "cbb7a07a",
   "metadata": {},
   "outputs": [
    {
     "name": "stdout",
     "output_type": "stream",
     "text": [
      "Heuristic values :  1\n",
      "Solution graph :  {}\n",
      "processing node :  A\n",
      "Heuristic values :  6\n",
      "Solution graph :  {}\n",
      "processing node :  B\n",
      "Heuristic values :  10\n",
      "Solution graph :  {}\n",
      "processing node :  A\n",
      "Heuristic values :  5\n",
      "Solution graph :  {}\n",
      "processing node :  G\n",
      "Heuristic values :  6\n",
      "Solution graph :  {}\n",
      "processing node :  B\n",
      "Heuristic values :  10\n",
      "Solution graph :  {}\n",
      "processing node :  A\n",
      "Heuristic values :  7\n",
      "Solution graph :  {}\n",
      "processing node :  I\n",
      "Heuristic values :  8\n",
      "Solution graph :  {'I': []}\n",
      "processing node :  G\n",
      "Heuristic values :  8\n",
      "Solution graph :  {'I': [], 'G': ['I']}\n",
      "processing node :  B\n",
      "Heuristic values :  12\n",
      "Solution graph :  {'I': [], 'G': ['I'], 'B': ['G']}\n",
      "processing node :  A\n",
      "Heuristic values :  2\n",
      "Solution graph :  {'I': [], 'G': ['I'], 'B': ['G']}\n",
      "processing node :  C\n",
      "Heuristic values :  6\n",
      "Solution graph :  {'I': [], 'G': ['I'], 'B': ['G']}\n",
      "processing node :  A\n",
      "Heuristic values :  1\n",
      "Solution graph :  {'I': [], 'G': ['I'], 'B': ['G']}\n",
      "processing node :  J\n",
      "Heuristic values :  2\n",
      "Solution graph :  {'I': [], 'G': ['I'], 'B': ['G'], 'J': []}\n",
      "processing node :  C\n",
      "Heuristic values :  6\n",
      "Solution graph :  {'I': [], 'G': ['I'], 'B': ['G'], 'J': [], 'C': ['J']}\n",
      "processing node :  A\n"
     ]
    }
   ],
   "source": [
    "G1.applyAOstar ()"
   ]
  },
  {
   "cell_type": "code",
   "execution_count": 54,
   "id": "f3c55bcd",
   "metadata": {},
   "outputs": [
    {
     "name": "stdout",
     "output_type": "stream",
     "text": [
      "FOR GRAPH SOLUTION, TRAVEL THE GRAPH FROM  A\n",
      "-----------------------------------------------------------------------------------------------\n",
      "solution is  {'I': [], 'G': ['I'], 'B': ['G'], 'J': [], 'C': ['J'], 'A': ['B', 'C']}\n",
      "-----------------------------------------------------------------------------------------------\n"
     ]
    }
   ],
   "source": [
    "G1.printSolution()"
   ]
  },
  {
   "cell_type": "code",
   "execution_count": null,
   "id": "a5941332",
   "metadata": {},
   "outputs": [],
   "source": []
  },
  {
   "cell_type": "code",
   "execution_count": null,
   "id": "35df628b",
   "metadata": {},
   "outputs": [],
   "source": []
  }
 ],
 "metadata": {
  "kernelspec": {
   "display_name": "Python 3 (ipykernel)",
   "language": "python",
   "name": "python3"
  },
  "language_info": {
   "codemirror_mode": {
    "name": "ipython",
    "version": 3
   },
   "file_extension": ".py",
   "mimetype": "text/x-python",
   "name": "python",
   "nbconvert_exporter": "python",
   "pygments_lexer": "ipython3",
   "version": "3.9.13"
  }
 },
 "nbformat": 4,
 "nbformat_minor": 5
}
