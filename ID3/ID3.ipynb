{
 "cells": [
  {
   "cell_type": "markdown",
   "id": "6c1871e4",
   "metadata": {},
   "source": [
    "## ID3 "
   ]
  },
  {
   "cell_type": "code",
   "execution_count": 12,
   "id": "5dedc9c8",
   "metadata": {},
   "outputs": [],
   "source": [
    "import pandas as pd\n",
    "import numpy as np"
   ]
  },
  {
   "cell_type": "code",
   "execution_count": 13,
   "id": "f9e4b855",
   "metadata": {},
   "outputs": [],
   "source": [
    "dataset = pd.read_csv(\"Program 4 id3.csv\")"
   ]
  },
  {
   "cell_type": "code",
   "execution_count": 14,
   "id": "2fe5100d",
   "metadata": {},
   "outputs": [],
   "source": [
    "def entropy (dataset):\n",
    "    elements, count = np.unique (dataset, return_counts = True)\n",
    "    \n",
    "    entropy = np.sum( [ (-count[i]/np.sum(count) ) * np.log2 ( count[i]/np.sum(count) ) for i in range(len(elements)) ] )\n",
    "    return entropy"
   ]
  },
  {
   "cell_type": "code",
   "execution_count": 15,
   "id": "fcc81fc8",
   "metadata": {},
   "outputs": [],
   "source": [
    "def infoGain (data, split_attribute_name, target_attribute = \"Decision\"):\n",
    "    total_entropy = entropy (data[target_attribute])\n",
    "    \n",
    "    value, count = np.unique (data[split_attribute_name], return_counts = True)\n",
    "    \n",
    "    weighted_entropy = np.sum ( [ ( count[i] / np.sum(count) ) * entropy ( data.where (data[split_attribute_name] == value[i]).dropna() [target_attribute]) for i in range (len(value))])\n",
    "    \n",
    "    return total_entropy - weighted_entropy"
   ]
  },
  {
   "cell_type": "code",
   "execution_count": 22,
   "id": "4f345df8",
   "metadata": {},
   "outputs": [],
   "source": [
    "def ID3 (data, original_data, features, target_name = \"Decision\", parent_node_class = None):\n",
    "    if(len (np.unique(data[target_name])) <= 1):\n",
    "        return np.unique(data[target_name])[0]\n",
    "    elif (len(data) == 0):\n",
    "        return np.unique (original_data[target_name])[np.argmax (np.unique(original_data[target_name], return_counts = True)[1])]\n",
    "    elif (len(features) == 0):\n",
    "        return parent_node_class\n",
    "    else:\n",
    "        parent_node_class = np.unique (data[target_name])[np.argmax (np.unique(data[target_name], return_counts = True)[1])]\n",
    "        \n",
    "        item_value = [infoGain (data, feature, target_name) for feature in features]\n",
    "        \n",
    "        best_feature_index = np.argmax (item_value)\n",
    "        best_feature = features [best_feature_index]\n",
    "        \n",
    "        featurs = [i for i in features if i != best_feature]\n",
    "        \n",
    "        tree = {best_feature : {}}\n",
    "        \n",
    "        for value in data[best_feature]:\n",
    "            value = value\n",
    "            sub_data = data.where (data[best_feature] == value).dropna()\n",
    "            sub_tree = ID3 (sub_data, dataset, features, target_name, parent_node_class)\n",
    "            tree [best_feature][value] = sub_tree\n",
    "        return tree\n",
    "    "
   ]
  },
  {
   "cell_type": "code",
   "execution_count": 23,
   "id": "fd317fee",
   "metadata": {},
   "outputs": [
    {
     "name": "stdout",
     "output_type": "stream",
     "text": [
      "{'Outlook': {'Sunny': {'Humidity': {'High': 'No', 'Normal': 'Yes'}}, 'Overcast': 'Yes', 'Rain': {'Wind': {'Weak': 'Yes', 'Strong': 'No'}}}}\n"
     ]
    }
   ],
   "source": [
    "Tree = ID3 (dataset, dataset, dataset.columns[:-1])\n",
    "print (Tree)"
   ]
  },
  {
   "cell_type": "code",
   "execution_count": null,
   "id": "0781aa8f",
   "metadata": {},
   "outputs": [],
   "source": []
  }
 ],
 "metadata": {
  "kernelspec": {
   "display_name": "Python 3 (ipykernel)",
   "language": "python",
   "name": "python3"
  },
  "language_info": {
   "codemirror_mode": {
    "name": "ipython",
    "version": 3
   },
   "file_extension": ".py",
   "mimetype": "text/x-python",
   "name": "python",
   "nbconvert_exporter": "python",
   "pygments_lexer": "ipython3",
   "version": "3.9.13"
  }
 },
 "nbformat": 4,
 "nbformat_minor": 5
}
