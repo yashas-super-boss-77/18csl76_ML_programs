{
 "cells": [
  {
   "cell_type": "markdown",
   "id": "910f0927",
   "metadata": {},
   "source": [
    "# practice"
   ]
  },
  {
   "cell_type": "code",
   "execution_count": 1,
   "id": "a69acca1",
   "metadata": {},
   "outputs": [],
   "source": [
    "import numpy as np\n",
    "import pandas as pd"
   ]
  },
  {
   "cell_type": "code",
   "execution_count": 21,
   "id": "fedd1b78",
   "metadata": {},
   "outputs": [
    {
     "data": {
      "text/html": [
       "<div>\n",
       "<style scoped>\n",
       "    .dataframe tbody tr th:only-of-type {\n",
       "        vertical-align: middle;\n",
       "    }\n",
       "\n",
       "    .dataframe tbody tr th {\n",
       "        vertical-align: top;\n",
       "    }\n",
       "\n",
       "    .dataframe thead th {\n",
       "        text-align: right;\n",
       "    }\n",
       "</style>\n",
       "<table border=\"1\" class=\"dataframe\">\n",
       "  <thead>\n",
       "    <tr style=\"text-align: right;\">\n",
       "      <th></th>\n",
       "      <th>sky</th>\n",
       "      <th>airTemp</th>\n",
       "      <th>Humidity</th>\n",
       "      <th>wind</th>\n",
       "      <th>water</th>\n",
       "      <th>forecast</th>\n",
       "      <th>playsport</th>\n",
       "    </tr>\n",
       "  </thead>\n",
       "  <tbody>\n",
       "    <tr>\n",
       "      <th>0</th>\n",
       "      <td>sunny</td>\n",
       "      <td>warm</td>\n",
       "      <td>normal</td>\n",
       "      <td>strong</td>\n",
       "      <td>warm</td>\n",
       "      <td>same</td>\n",
       "      <td>yes</td>\n",
       "    </tr>\n",
       "    <tr>\n",
       "      <th>1</th>\n",
       "      <td>sunny</td>\n",
       "      <td>warm</td>\n",
       "      <td>high</td>\n",
       "      <td>strong</td>\n",
       "      <td>warm</td>\n",
       "      <td>same</td>\n",
       "      <td>yes</td>\n",
       "    </tr>\n",
       "    <tr>\n",
       "      <th>2</th>\n",
       "      <td>rainy</td>\n",
       "      <td>cold</td>\n",
       "      <td>high</td>\n",
       "      <td>strong</td>\n",
       "      <td>warm</td>\n",
       "      <td>change</td>\n",
       "      <td>no</td>\n",
       "    </tr>\n",
       "    <tr>\n",
       "      <th>3</th>\n",
       "      <td>sunny</td>\n",
       "      <td>warm</td>\n",
       "      <td>high</td>\n",
       "      <td>strong</td>\n",
       "      <td>cool</td>\n",
       "      <td>change</td>\n",
       "      <td>yes</td>\n",
       "    </tr>\n",
       "  </tbody>\n",
       "</table>\n",
       "</div>"
      ],
      "text/plain": [
       "     sky airTemp Humidity    wind water forecast playsport\n",
       "0  sunny    warm   normal  strong  warm     same       yes\n",
       "1  sunny    warm     high  strong  warm     same       yes\n",
       "2  rainy    cold     high  strong  warm   change        no\n",
       "3  sunny    warm     high  strong  cool   change       yes"
      ]
     },
     "execution_count": 21,
     "metadata": {},
     "output_type": "execute_result"
    }
   ],
   "source": [
    "data = pd.DataFrame (pd.read_csv(\"data.csv\"))\n",
    "data"
   ]
  },
  {
   "cell_type": "code",
   "execution_count": 10,
   "id": "b37e09ac",
   "metadata": {},
   "outputs": [],
   "source": [
    "concepts = np.array (data.iloc [:,0:-1])\n",
    "target = np.array (data.iloc [:,-1])"
   ]
  },
  {
   "cell_type": "code",
   "execution_count": 24,
   "id": "dfe3ca78",
   "metadata": {},
   "outputs": [],
   "source": [
    "def learn (concepts, target):\n",
    "    specific_h = concepts[0].copy()\n",
    "    general_h = [['?' for i in range (len (specific_h))] for i in range (len (specific_h))]\n",
    "    \n",
    "    for i, h in enumerate (concepts):\n",
    "        if target [i] == \"yes\":\n",
    "            for x in range (len (specific_h)):\n",
    "                if h[x] != specific_h[x]:\n",
    "                    specific_h[x] = \"?\"\n",
    "                    general_h[x][x] = \"?\"\n",
    "        \n",
    "        elif target[i] == \"no\":\n",
    "            for x in range (len (specific_h)):\n",
    "                if h[x] != specific_h[x]:\n",
    "                    general_h[x][x] = specific_h[x]\n",
    "                else:\n",
    "                    general_h[x][x] = \"?\"\n",
    "    \n",
    "    indexes = [i for i, v in enumerate(general_h) if v == ['?','?','?','?','?','?']]\n",
    "    \n",
    "    for i in indexes:\n",
    "        general_h.remove (['?','?','?','?','?','?'])\n",
    "        \n",
    "    return general_h, specific_h\n",
    "\n",
    "            "
   ]
  },
  {
   "cell_type": "code",
   "execution_count": 26,
   "id": "19247fbd",
   "metadata": {},
   "outputs": [
    {
     "name": "stdout",
     "output_type": "stream",
     "text": [
      "general hypothesis =  [['sunny', '?', '?', '?', '?', '?'], ['?', 'warm', '?', '?', '?', '?']] specific hypothesis =  ['sunny' 'warm' '?' 'strong' '?' '?']\n"
     ]
    }
   ],
   "source": [
    "g_final, s_final = learn (concepts, target)\n",
    "\n",
    "print (\"general hypothesis = \", g_final, \"specific hypothesis = \", s_final, end = \"\\n\")"
   ]
  },
  {
   "cell_type": "markdown",
   "id": "c333d81f",
   "metadata": {},
   "source": [
    "## Practice 2"
   ]
  },
  {
   "cell_type": "code",
   "execution_count": 27,
   "id": "946ba821",
   "metadata": {},
   "outputs": [],
   "source": [
    "import numpy as np\n",
    "import pandas as pd"
   ]
  },
  {
   "cell_type": "code",
   "execution_count": 28,
   "id": "4dc1b547",
   "metadata": {},
   "outputs": [],
   "source": [
    "data = pd.DataFrame (pd.read_csv (\"data.csv\"))\n",
    "concepts = np.array (data.iloc [:,0:-1])\n",
    "target = np.array (data.iloc [:,-1])"
   ]
  },
  {
   "cell_type": "code",
   "execution_count": 32,
   "id": "04120cec",
   "metadata": {},
   "outputs": [
    {
     "name": "stdout",
     "output_type": "stream",
     "text": [
      "['sunny' 'warm' '?' 'strong' '?' '?']\n",
      "[['sunny', '?', '?', '?', '?', '?'], ['?', 'warm', '?', '?', '?', '?']]\n"
     ]
    }
   ],
   "source": [
    "def learn (concepts, target):\n",
    "    \n",
    "    specific_h = concepts[0].copy ()\n",
    "    general_h = [['?' for i in range (len (specific_h))] for i in range (len (specific_h))]\n",
    "    \n",
    "    for i, h in enumerate (concepts):\n",
    "        \n",
    "        if target [i] == 'yes':\n",
    "            \n",
    "            for x in range (len (specific_h)):\n",
    "                \n",
    "                if h[x] != specific_h[x]:\n",
    "                    specific_h[x] = '?'\n",
    "                    general_h[x][x] = '?'\n",
    "                    \n",
    "        elif target[i] == 'no':\n",
    "            \n",
    "            for x in range (len (specific_h)):\n",
    "                if h[x] != specific_h[x]:\n",
    "                    general_h[x][x] = specific_h[x]\n",
    "                else:\n",
    "                    general_h[x][x] = '?'\n",
    "                    \n",
    "    indexes = [i for i, v in enumerate (general_h) if v == ['?','?','?','?','?','?']]\n",
    "            \n",
    "    for i in indexes:\n",
    "        general_h.remove (['?','?','?','?','?','?'])\n",
    "        \n",
    "    return specific_h, general_h\n",
    "\n",
    "s, g = learn (concepts, target)\n",
    "print (s)\n",
    "print (g)"
   ]
  },
  {
   "cell_type": "code",
   "execution_count": null,
   "id": "5bf960cc",
   "metadata": {},
   "outputs": [],
   "source": []
  }
 ],
 "metadata": {
  "kernelspec": {
   "display_name": "Python 3 (ipykernel)",
   "language": "python",
   "name": "python3"
  },
  "language_info": {
   "codemirror_mode": {
    "name": "ipython",
    "version": 3
   },
   "file_extension": ".py",
   "mimetype": "text/x-python",
   "name": "python",
   "nbconvert_exporter": "python",
   "pygments_lexer": "ipython3",
   "version": "3.9.13"
  }
 },
 "nbformat": 4,
 "nbformat_minor": 5
}
