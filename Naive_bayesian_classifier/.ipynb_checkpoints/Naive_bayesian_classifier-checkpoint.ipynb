{
 "cells": [
  {
   "cell_type": "markdown",
   "id": "3485fd85",
   "metadata": {},
   "source": [
    "# Practice 1"
   ]
  },
  {
   "cell_type": "code",
   "execution_count": 265,
   "id": "39704c89",
   "metadata": {},
   "outputs": [],
   "source": [
    "import random\n",
    "import csv\n",
    "import math"
   ]
  },
  {
   "cell_type": "code",
   "execution_count": 266,
   "id": "483c18d0",
   "metadata": {},
   "outputs": [],
   "source": [
    "def load_data (filename):\n",
    "    lines = csv.reader (open (filename, \"r\"))\n",
    "    dataset = list (lines)\n",
    "    for i in range (len (dataset)):\n",
    "        dataset[i] = [float (x) for x in dataset [i]]\n",
    "    return dataset"
   ]
  },
  {
   "cell_type": "code",
   "execution_count": 267,
   "id": "b63d8608",
   "metadata": {},
   "outputs": [],
   "source": [
    "def split_data (dataset, split_ratio):\n",
    "    train_size = int ((len (dataset) * split_ratio))\n",
    "    train_set = []\n",
    "    copy = list (dataset)\n",
    "    while train_size > len (train_set):\n",
    "        index = random.randrange (len (copy))\n",
    "        train_set.append (copy.pop (index))\n",
    "    return [train_set, copy]"
   ]
  },
  {
   "cell_type": "code",
   "execution_count": 268,
   "id": "e1d681f8",
   "metadata": {},
   "outputs": [],
   "source": [
    "def seperate_by_class (dataset):\n",
    "    seperator = {}\n",
    "    for i in range (len (dataset)):\n",
    "        vector = dataset [i]\n",
    "        if vector[-1] not in seperator:\n",
    "            seperator [vector [-1]] = []\n",
    "        seperator [vector [-1]].append (vector)\n",
    "    return seperator"
   ]
  },
  {
   "cell_type": "code",
   "execution_count": 269,
   "id": "97533419",
   "metadata": {},
   "outputs": [],
   "source": [
    "def mean (number):\n",
    "    return sum (number) / float (len (number))"
   ]
  },
  {
   "cell_type": "code",
   "execution_count": 270,
   "id": "bb462977",
   "metadata": {},
   "outputs": [],
   "source": [
    "def stdev (numbers):\n",
    "    avg = mean (numbers)\n",
    "    variance = sum ([pow (x-avg, 2) for x in numbers]) / float(len (numbers) - 1)\n",
    "    return math.sqrt (variance)"
   ]
  },
  {
   "cell_type": "code",
   "execution_count": 271,
   "id": "dcb82877",
   "metadata": {},
   "outputs": [],
   "source": [
    "def sumarize (dataset):\n",
    "    summaries = [(mean (attribute), stdev(attribute)) for attribute in zip (*dataset)]\n",
    "    del summaries [-1]\n",
    "    return summaries\n"
   ]
  },
  {
   "cell_type": "code",
   "execution_count": 272,
   "id": "ef2cf7f6",
   "metadata": {},
   "outputs": [],
   "source": [
    "def summary_by_class (dataset):\n",
    "    summaries = {}\n",
    "    seperator = seperate_by_class (dataset)\n",
    "    for class_value, instance in seperator.items():\n",
    "        summaries[class_value] = sumarize(instance)\n",
    "    return summaries"
   ]
  },
  {
   "cell_type": "code",
   "execution_count": 273,
   "id": "e9e09660",
   "metadata": {},
   "outputs": [],
   "source": [
    "def probability (x, mean, std):\n",
    "    exponent = math.exp (-(math.pow (x - mean, 2) / (2*math.pow (std, 2))))\n",
    "    \n",
    "    return (1/(math.sqrt(2 * math.pi) * std)) * exponent"
   ]
  },
  {
   "cell_type": "code",
   "execution_count": 274,
   "id": "14f94791",
   "metadata": {},
   "outputs": [],
   "source": [
    "def class_probability (summaries, inputvector):\n",
    "    probabilities = {}\n",
    "    for classvalue, summary in summaries.items():\n",
    "        probabilities[classvalue] = 1\n",
    "        for i in range (len (summary)):\n",
    "            mean, std = summary [i]\n",
    "            x = inputvector[i]\n",
    "            probabilities[classvalue]*=probability(x, mean, std)\n",
    "\n",
    "    return probabilities"
   ]
  },
  {
   "cell_type": "code",
   "execution_count": 275,
   "id": "15a1557a",
   "metadata": {},
   "outputs": [],
   "source": [
    "def predict (summaries, inputvector):\n",
    "    bestlabel, bestprob = None, -1\n",
    "    probabilities = class_probability (summaries, inputvector)\n",
    "    for classlabel, prob in probabilities.items():\n",
    "        if bestlabel is None or bestprob < prob:\n",
    "            bestprob = prob\n",
    "            bestlabel = classlabel\n",
    "    return bestlabel"
   ]
  },
  {
   "cell_type": "code",
   "execution_count": 276,
   "id": "b48a6026",
   "metadata": {},
   "outputs": [],
   "source": [
    "def getpredictions (summaries, testset):\n",
    "    predictions = []\n",
    "    for i in range (len (testset)):\n",
    "        result = predict (summaries, testset[i])\n",
    "        predictions.append (result)\n",
    "    \n",
    "    return predictions"
   ]
  },
  {
   "cell_type": "code",
   "execution_count": 277,
   "id": "7e12d3d6",
   "metadata": {},
   "outputs": [],
   "source": [
    "def getAccuracy (testset, predictions):\n",
    "    correct = 0\n",
    "    for i in range (len (testset)):\n",
    "        if predictions[i] == testset[i][-1]:\n",
    "            correct += 1\n",
    "    return (correct / float (len (testset))) * 100.00 "
   ]
  },
  {
   "cell_type": "code",
   "execution_count": 278,
   "id": "5f455cae",
   "metadata": {},
   "outputs": [
    {
     "name": "stdout",
     "output_type": "stream",
     "text": [
      "dataset = 768, train data = 514, test_data = 254\n",
      "Accuracy achieved is : 73.62204724409449%\n"
     ]
    }
   ],
   "source": [
    "def main ():\n",
    "    filename = \"5_pima-indians-diabetes.csv\"\n",
    "    split_ratio = 0.67\n",
    "    \n",
    "    dataset = load_data (filename)\n",
    "    \n",
    "    train_data, test_data = split_data (dataset, split_ratio)\n",
    "    \n",
    "    print (\"dataset = {0}, train data = {1}, test_data = {2}\".format (len (dataset), len (train_data), len (test_data)))\n",
    "    \n",
    "    summaries = summary_by_class (train_data)\n",
    "    \n",
    "    predictions = getpredictions (summaries, test_data)\n",
    "    \n",
    "    accuracy = getAccuracy (test_data, predictions)\n",
    "    \n",
    "    print ('Accuracy achieved is : {0}%'.format (accuracy))\n",
    "\n",
    "main ()\n",
    "    \n",
    "           \n",
    "           "
   ]
  },
  {
   "cell_type": "markdown",
   "id": "35e03e2e",
   "metadata": {},
   "source": [
    "# Practice 2"
   ]
  },
  {
   "cell_type": "code",
   "execution_count": 289,
   "id": "fc4bed05",
   "metadata": {},
   "outputs": [
    {
     "name": "stdout",
     "output_type": "stream",
     "text": [
      "768 514 254\n"
     ]
    },
    {
     "ename": "TypeError",
     "evalue": "'float' object is not iterable",
     "output_type": "error",
     "traceback": [
      "\u001b[1;31m---------------------------------------------------------------------------\u001b[0m",
      "\u001b[1;31mTypeError\u001b[0m                                 Traceback (most recent call last)",
      "\u001b[1;32m~\\AppData\\Local\\Temp\\ipykernel_23904\\1362512358.py\u001b[0m in \u001b[0;36m<module>\u001b[1;34m\u001b[0m\n\u001b[0;32m    102\u001b[0m \u001b[1;33m\u001b[0m\u001b[0m\n\u001b[0;32m    103\u001b[0m     \u001b[0mprint\u001b[0m \u001b[1;33m(\u001b[0m\u001b[0maccuracy\u001b[0m\u001b[1;33m)\u001b[0m\u001b[1;33m\u001b[0m\u001b[1;33m\u001b[0m\u001b[0m\n\u001b[1;32m--> 104\u001b[1;33m \u001b[0mmain\u001b[0m \u001b[1;33m(\u001b[0m\u001b[1;33m)\u001b[0m\u001b[1;33m\u001b[0m\u001b[1;33m\u001b[0m\u001b[0m\n\u001b[0m\u001b[0;32m    105\u001b[0m \u001b[1;33m\u001b[0m\u001b[0m\n\u001b[0;32m    106\u001b[0m \u001b[1;33m\u001b[0m\u001b[0m\n",
      "\u001b[1;32m~\\AppData\\Local\\Temp\\ipykernel_23904\\1362512358.py\u001b[0m in \u001b[0;36mmain\u001b[1;34m()\u001b[0m\n\u001b[0;32m     95\u001b[0m     \u001b[0mprint\u001b[0m \u001b[1;33m(\u001b[0m\u001b[0mlen\u001b[0m \u001b[1;33m(\u001b[0m\u001b[0mdataset\u001b[0m\u001b[1;33m)\u001b[0m\u001b[1;33m,\u001b[0m \u001b[0mlen\u001b[0m \u001b[1;33m(\u001b[0m\u001b[0mtrainset\u001b[0m\u001b[1;33m)\u001b[0m\u001b[1;33m,\u001b[0m \u001b[0mlen\u001b[0m \u001b[1;33m(\u001b[0m\u001b[0mtestset\u001b[0m\u001b[1;33m)\u001b[0m\u001b[1;33m)\u001b[0m\u001b[1;33m\u001b[0m\u001b[1;33m\u001b[0m\u001b[0m\n\u001b[0;32m     96\u001b[0m \u001b[1;33m\u001b[0m\u001b[0m\n\u001b[1;32m---> 97\u001b[1;33m     \u001b[0msummaries\u001b[0m \u001b[1;33m=\u001b[0m \u001b[0msummary_by_class\u001b[0m \u001b[1;33m(\u001b[0m\u001b[0mtrainset\u001b[0m\u001b[1;33m)\u001b[0m\u001b[1;33m\u001b[0m\u001b[1;33m\u001b[0m\u001b[0m\n\u001b[0m\u001b[0;32m     98\u001b[0m \u001b[1;33m\u001b[0m\u001b[0m\n\u001b[0;32m     99\u001b[0m     \u001b[0mpredictions\u001b[0m \u001b[1;33m=\u001b[0m \u001b[0mgetpredictions\u001b[0m \u001b[1;33m(\u001b[0m\u001b[0msummaries\u001b[0m\u001b[1;33m,\u001b[0m \u001b[0mtestset\u001b[0m\u001b[1;33m)\u001b[0m\u001b[1;33m\u001b[0m\u001b[1;33m\u001b[0m\u001b[0m\n",
      "\u001b[1;32m~\\AppData\\Local\\Temp\\ipykernel_23904\\1362512358.py\u001b[0m in \u001b[0;36msummary_by_class\u001b[1;34m(dataset)\u001b[0m\n\u001b[0;32m     48\u001b[0m     \u001b[0msummaries\u001b[0m \u001b[1;33m=\u001b[0m \u001b[1;33m{\u001b[0m\u001b[1;33m}\u001b[0m\u001b[1;33m\u001b[0m\u001b[1;33m\u001b[0m\u001b[0m\n\u001b[0;32m     49\u001b[0m     \u001b[1;32mfor\u001b[0m \u001b[0mclassValue\u001b[0m\u001b[1;33m,\u001b[0m \u001b[0minstance\u001b[0m \u001b[1;32min\u001b[0m \u001b[0mseperate\u001b[0m\u001b[1;33m.\u001b[0m\u001b[0mitems\u001b[0m \u001b[1;33m(\u001b[0m\u001b[1;33m)\u001b[0m\u001b[1;33m:\u001b[0m\u001b[1;33m\u001b[0m\u001b[1;33m\u001b[0m\u001b[0m\n\u001b[1;32m---> 50\u001b[1;33m         \u001b[0msummaries\u001b[0m \u001b[1;33m[\u001b[0m \u001b[0mclassValue\u001b[0m\u001b[1;33m]\u001b[0m \u001b[1;33m=\u001b[0m \u001b[0mgetsummary\u001b[0m \u001b[1;33m(\u001b[0m\u001b[0minstance\u001b[0m\u001b[1;33m)\u001b[0m\u001b[1;33m\u001b[0m\u001b[1;33m\u001b[0m\u001b[0m\n\u001b[0m\u001b[0;32m     51\u001b[0m     \u001b[1;32mreturn\u001b[0m \u001b[0msummaries\u001b[0m\u001b[1;33m\u001b[0m\u001b[1;33m\u001b[0m\u001b[0m\n\u001b[0;32m     52\u001b[0m \u001b[1;32mdef\u001b[0m \u001b[0mcalculate_pro\u001b[0m \u001b[1;33m(\u001b[0m\u001b[0mx\u001b[0m\u001b[1;33m,\u001b[0m \u001b[0mmean\u001b[0m\u001b[1;33m,\u001b[0m \u001b[0mstd\u001b[0m\u001b[1;33m)\u001b[0m\u001b[1;33m:\u001b[0m\u001b[1;33m\u001b[0m\u001b[1;33m\u001b[0m\u001b[0m\n",
      "\u001b[1;32m~\\AppData\\Local\\Temp\\ipykernel_23904\\1362512358.py\u001b[0m in \u001b[0;36mgetsummary\u001b[1;34m(dataset)\u001b[0m\n\u001b[0;32m     41\u001b[0m \u001b[1;33m\u001b[0m\u001b[0m\n\u001b[0;32m     42\u001b[0m \u001b[1;32mdef\u001b[0m \u001b[0mgetsummary\u001b[0m \u001b[1;33m(\u001b[0m\u001b[0mdataset\u001b[0m\u001b[1;33m)\u001b[0m\u001b[1;33m:\u001b[0m\u001b[1;33m\u001b[0m\u001b[1;33m\u001b[0m\u001b[0m\n\u001b[1;32m---> 43\u001b[1;33m     \u001b[0msummaries\u001b[0m \u001b[1;33m=\u001b[0m \u001b[1;33m[\u001b[0m\u001b[1;33m(\u001b[0m\u001b[0mmean\u001b[0m \u001b[1;33m(\u001b[0m\u001b[0ma\u001b[0m\u001b[1;33m)\u001b[0m\u001b[1;33m,\u001b[0m \u001b[0mstd\u001b[0m \u001b[1;33m(\u001b[0m\u001b[0ma\u001b[0m\u001b[1;33m)\u001b[0m\u001b[1;33m)\u001b[0m \u001b[1;32mfor\u001b[0m \u001b[0ma\u001b[0m \u001b[1;32min\u001b[0m \u001b[0mzip\u001b[0m \u001b[1;33m(\u001b[0m\u001b[1;33m*\u001b[0m\u001b[0mdataset\u001b[0m\u001b[1;33m)\u001b[0m\u001b[1;33m]\u001b[0m\u001b[1;33m\u001b[0m\u001b[1;33m\u001b[0m\u001b[0m\n\u001b[0m\u001b[0;32m     44\u001b[0m     \u001b[1;32mdel\u001b[0m \u001b[0msummaries\u001b[0m \u001b[1;33m[\u001b[0m\u001b[1;33m-\u001b[0m\u001b[1;36m1\u001b[0m\u001b[1;33m]\u001b[0m\u001b[1;33m\u001b[0m\u001b[1;33m\u001b[0m\u001b[0m\n\u001b[0;32m     45\u001b[0m     \u001b[1;32mreturn\u001b[0m \u001b[0msummaries\u001b[0m\u001b[1;33m\u001b[0m\u001b[1;33m\u001b[0m\u001b[0m\n",
      "\u001b[1;31mTypeError\u001b[0m: 'float' object is not iterable"
     ]
    }
   ],
   "source": [
    "import math\n",
    "import random\n",
    "import csv\n",
    "\n",
    "def load_data (filename):\n",
    "    dataset = csv.reader (open (filename, \"r\"))\n",
    "    dataset = list (dataset)\n",
    "    for i in range (len(dataset)):\n",
    "        dataset[i] = [float(x) for x in dataset[i]]\n",
    "    \n",
    "    return dataset\n",
    "\n",
    "def split_data (dataset, split_ratio):\n",
    "    train_size = int (len (dataset) * split_ratio)\n",
    "    trainset = []\n",
    "    copy = list (dataset)\n",
    "    while train_size > len (trainset):\n",
    "        index = random.randrange (len(copy))\n",
    "        trainset.append (copy.pop (index))\n",
    "    \n",
    "    return [trainset, copy]\n",
    "\n",
    "def seperate_by_class (dataset):\n",
    "    \n",
    "    seperated = {}\n",
    "    \n",
    "    for i in range (len (dataset)):\n",
    "        vector = dataset [i]\n",
    "        \n",
    "        if vector[-1] not in seperated:\n",
    "            seperated[ vector[-1]]  = []\n",
    "        seperated[ vector[-1]].append (vector)\n",
    "    return seperated\n",
    "\n",
    "def mean (numbers):\n",
    "    return (sum (numbers) / float (len(numbers)))\n",
    "def std (numbers):\n",
    "    avg = mean (numbers)\n",
    "    variance = sum( [pow (x-avg, 2) for x in numbers]) / (float (len (numbers) - 1))\n",
    "    return math.sqrt (variance)\n",
    "\n",
    "def getsummary (dataset):\n",
    "    summaries = [(mean (a), std (a)) for a in zip (*dataset)]\n",
    "    del summaries [-1]\n",
    "    return summaries\n",
    "def summary_by_class (dataset):\n",
    "    seperate = seperate_by_class (dataset)\n",
    "    summaries = {}\n",
    "    for classValue, instance in seperate.items ():\n",
    "        summaries [ classValue] = getsummary (instance)\n",
    "    return summaries\n",
    "def calculate_pro (x, mean, std):\n",
    "    exponent = math.exp (- (math.pow (x - mean, 2))/(2*math.pow (std, 2)))\n",
    "    return (1/ (math.sqrt (2*math.pi)) * std) * exponent\n",
    "def probablity_by_class (summaries, inputvector):\n",
    "    probablity = {}\n",
    "    for classValue, summary in summaries.items ():\n",
    "        probability[classValue] = 1\n",
    "        \n",
    "        for i in range (len (summary)):\n",
    "            mean, std = summary[i]\n",
    "            x = inputvector [i]\n",
    "            \n",
    "            probability[classValue] *= calculate_pro (x. mean, std)\n",
    "    return probability\n",
    "def predict (summaries, inputvector):\n",
    "    bestLabel, bestprob = None, -1\n",
    "    probability = probablity_by_class (summaries, inputvector)\n",
    "    for classLabel, prob in probability.items ():\n",
    "        if bestLabel is None or prob > bestprob:\n",
    "            bestprob = prob\n",
    "            bestLabel = classLabel\n",
    "    return bestLabel\n",
    "\n",
    "def getpredictions (summaries, testdata):\n",
    "    predictions = []\n",
    "    for i in range (len (testdata)):\n",
    "        result = predict (summaries, testdata[i])\n",
    "        predictions.append (result)\n",
    "    return predictions\n",
    "def getAccuracy (predictions, testdata):\n",
    "    correct = 0\n",
    "    for i in range (len (testdata)):\n",
    "        if (testdata[i][-1] == predictions[i]):\n",
    "            correct += 1\n",
    "    return (correct / len (testdata)) * 100\n",
    "def main ():\n",
    "    filename = \"5_pima-indians-diabetes.csv\"\n",
    "    split_ratio = 0.67\n",
    "    \n",
    "    dataset = load_data (filename)\n",
    "    \n",
    "    trainset, testset = split_data (dataset, split_ratio)\n",
    "    \n",
    "    print (len (dataset), len (trainset), len (testset))\n",
    "    \n",
    "    summaries = summary_by_class (trainset)\n",
    "    \n",
    "    predictions = getpredictions (summaries, testset)\n",
    "    \n",
    "    accuracy = getAccuracy (predictions, testset)\n",
    "    \n",
    "    print (accuracy)\n",
    "main ()\n",
    "    \n",
    "        "
   ]
  },
  {
   "cell_type": "code",
   "execution_count": null,
   "id": "dee2dfe3",
   "metadata": {},
   "outputs": [],
   "source": []
  }
 ],
 "metadata": {
  "kernelspec": {
   "display_name": "Python 3 (ipykernel)",
   "language": "python",
   "name": "python3"
  },
  "language_info": {
   "codemirror_mode": {
    "name": "ipython",
    "version": 3
   },
   "file_extension": ".py",
   "mimetype": "text/x-python",
   "name": "python",
   "nbconvert_exporter": "python",
   "pygments_lexer": "ipython3",
   "version": "3.9.13"
  }
 },
 "nbformat": 4,
 "nbformat_minor": 5
}
