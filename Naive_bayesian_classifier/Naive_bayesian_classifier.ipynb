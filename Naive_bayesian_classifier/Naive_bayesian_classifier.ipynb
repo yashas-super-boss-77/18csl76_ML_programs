{
 "cells": [
  {
   "cell_type": "markdown",
   "id": "6e9f9f90",
   "metadata": {},
   "source": [
    "# Practice 1"
   ]
  },
  {
   "cell_type": "code",
   "execution_count": 265,
   "id": "432e2d9c",
   "metadata": {},
   "outputs": [],
   "source": [
    "import random\n",
    "import csv\n",
    "import math"
   ]
  },
  {
   "cell_type": "code",
   "execution_count": 266,
   "id": "3c7b9b35",
   "metadata": {},
   "outputs": [],
   "source": [
    "def load_data (filename):\n",
    "    lines = csv.reader (open (filename, \"r\"))\n",
    "    dataset = list (lines)\n",
    "    for i in range (len (dataset)):\n",
    "        dataset[i] = [float (x) for x in dataset [i]]\n",
    "    return dataset"
   ]
  },
  {
   "cell_type": "code",
   "execution_count": 267,
   "id": "685b7705",
   "metadata": {},
   "outputs": [],
   "source": [
    "def split_data (dataset, split_ratio):\n",
    "    train_size = int ((len (dataset) * split_ratio))\n",
    "    train_set = []\n",
    "    copy = list (dataset)\n",
    "    while train_size > len (train_set):\n",
    "        index = random.randrange (len (copy))\n",
    "        train_set.append (copy.pop (index))\n",
    "    return [train_set, copy]"
   ]
  },
  {
   "cell_type": "code",
   "execution_count": 268,
   "id": "fb81a2a1",
   "metadata": {},
   "outputs": [],
   "source": [
    "def seperate_by_class (dataset):\n",
    "    seperator = {}\n",
    "    for i in range (len (dataset)):\n",
    "        vector = dataset [i]\n",
    "        if vector[-1] not in seperator:\n",
    "            seperator [vector [-1]] = []\n",
    "        seperator [vector [-1]].append (vector)\n",
    "    return seperator"
   ]
  },
  {
   "cell_type": "code",
   "execution_count": 269,
   "id": "550b5539",
   "metadata": {},
   "outputs": [],
   "source": [
    "def mean (number):\n",
    "    return sum (number) / float (len (number))"
   ]
  },
  {
   "cell_type": "code",
   "execution_count": 270,
   "id": "684442cc",
   "metadata": {},
   "outputs": [],
   "source": [
    "def stdev (numbers):\n",
    "    avg = mean (numbers)\n",
    "    variance = sum ([pow (x-avg, 2) for x in numbers]) / float(len (numbers) - 1)\n",
    "    return math.sqrt (variance)"
   ]
  },
  {
   "cell_type": "code",
   "execution_count": 271,
   "id": "df14fd94",
   "metadata": {},
   "outputs": [],
   "source": [
    "def sumarize (dataset):\n",
    "    summaries = [(mean (attribute), stdev(attribute)) for attribute in zip (*dataset)]\n",
    "    del summaries [-1]\n",
    "    return summaries\n"
   ]
  },
  {
   "cell_type": "code",
   "execution_count": 272,
   "id": "88dde361",
   "metadata": {},
   "outputs": [],
   "source": [
    "def summary_by_class (dataset):\n",
    "    summaries = {}\n",
    "    seperator = seperate_by_class (dataset)\n",
    "    for class_value, instance in seperator.items():\n",
    "        summaries[class_value] = sumarize(instance)\n",
    "    return summaries"
   ]
  },
  {
   "cell_type": "code",
   "execution_count": 273,
   "id": "242c304b",
   "metadata": {},
   "outputs": [],
   "source": [
    "def probability (x, mean, std):\n",
    "    exponent = math.exp (-(math.pow (x - mean, 2) / (2*math.pow (std, 2))))\n",
    "    \n",
    "    return (1/(math.sqrt(2 * math.pi) * std)) * exponent"
   ]
  },
  {
   "cell_type": "code",
   "execution_count": 274,
   "id": "28fb13e7",
   "metadata": {},
   "outputs": [],
   "source": [
    "def class_probability (summaries, inputvector):\n",
    "    probabilities = {}\n",
    "    for classvalue, summary in summaries.items():\n",
    "        probabilities[classvalue] = 1\n",
    "        for i in range (len (summary)):\n",
    "            mean, std = summary [i]\n",
    "            x = inputvector[i]\n",
    "            probabilities[classvalue]*=probability(x, mean, std)\n",
    "\n",
    "    return probabilities"
   ]
  },
  {
   "cell_type": "code",
   "execution_count": 275,
   "id": "d6dba8be",
   "metadata": {},
   "outputs": [],
   "source": [
    "def predict (summaries, inputvector):\n",
    "    bestlabel, bestprob = None, -1\n",
    "    probabilities = class_probability (summaries, inputvector)\n",
    "    for classlabel, prob in probabilities.items():\n",
    "        if bestlabel is None or bestprob < prob:\n",
    "            bestprob = prob\n",
    "            bestlabel = classlabel\n",
    "    return bestlabel"
   ]
  },
  {
   "cell_type": "code",
   "execution_count": 276,
   "id": "13b0d668",
   "metadata": {},
   "outputs": [],
   "source": [
    "def getpredictions (summaries, testset):\n",
    "    predictions = []\n",
    "    for i in range (len (testset)):\n",
    "        result = predict (summaries, testset[i])\n",
    "        predictions.append (result)\n",
    "    \n",
    "    return predictions"
   ]
  },
  {
   "cell_type": "code",
   "execution_count": 277,
   "id": "815fd147",
   "metadata": {},
   "outputs": [],
   "source": [
    "def getAccuracy (testset, predictions):\n",
    "    correct = 0\n",
    "    for i in range (len (testset)):\n",
    "        if predictions[i] == testset[i][-1]:\n",
    "            correct += 1\n",
    "    return (correct / float (len (testset))) * 100.00 "
   ]
  },
  {
   "cell_type": "code",
   "execution_count": 278,
   "id": "d8113198",
   "metadata": {},
   "outputs": [
    {
     "name": "stdout",
     "output_type": "stream",
     "text": [
      "dataset = 768, train data = 514, test_data = 254\n",
      "Accuracy achieved is : 73.62204724409449%\n"
     ]
    }
   ],
   "source": [
    "def main ():\n",
    "    filename = \"5_pima-indians-diabetes.csv\"\n",
    "    split_ratio = 0.67\n",
    "    \n",
    "    dataset = load_data (filename)\n",
    "    \n",
    "    train_data, test_data = split_data (dataset, split_ratio)\n",
    "    \n",
    "    print (\"dataset = {0}, train data = {1}, test_data = {2}\".format (len (dataset), len (train_data), len (test_data)))\n",
    "    \n",
    "    summaries = summary_by_class (train_data)\n",
    "    \n",
    "    predictions = getpredictions (summaries, test_data)\n",
    "    \n",
    "    accuracy = getAccuracy (test_data, predictions)\n",
    "    \n",
    "    print ('Accuracy achieved is : {0}%'.format (accuracy))\n",
    "\n",
    "main ()\n",
    "    \n",
    "           \n",
    "           "
   ]
  },
  {
   "cell_type": "markdown",
   "id": "ca329826",
   "metadata": {},
   "source": [
    "# Practice 2"
   ]
  },
  {
   "cell_type": "code",
   "execution_count": 300,
   "id": "3a98f7c7",
   "metadata": {},
   "outputs": [
    {
     "name": "stdout",
     "output_type": "stream",
     "text": [
      "768 514 254\n",
      "59.055118110236215\n"
     ]
    }
   ],
   "source": [
    "import math\n",
    "import random\n",
    "import csv\n",
    "\n",
    "def load_data (filename):\n",
    "    dataset = csv.reader (open (filename, \"r\"))\n",
    "    dataset = list (dataset)\n",
    "    for i in range (len(dataset)):\n",
    "        dataset[i] = [float(x) for x in dataset[i]]\n",
    "    \n",
    "    return dataset\n",
    "\n",
    "def split_data (dataset, split_ratio):\n",
    "    train_size = int (len (dataset) * split_ratio)\n",
    "    trainset = []\n",
    "    copy = list (dataset)\n",
    "    while train_size > len (trainset):\n",
    "        index = random.randrange (len(copy))\n",
    "        trainset.append (copy.pop (index))\n",
    "    \n",
    "    return [trainset, copy]\n",
    "\n",
    "def seperate_by_class (dataset):\n",
    "    \n",
    "    seperated = {}\n",
    "    \n",
    "    for i in range (len (dataset)):\n",
    "        vector = dataset [i]\n",
    "        \n",
    "        if vector[-1] not in seperated:\n",
    "            seperated[ vector[-1]]  = []\n",
    "        seperated[ vector[-1]].append (vector)\n",
    "    return seperated\n",
    "\n",
    "def mean (numbers):\n",
    "    return (sum (numbers) / float (len(numbers)))\n",
    "def std (numbers):\n",
    "    avg = mean (numbers)\n",
    "    variance = sum( [pow (x-avg, 2) for x in numbers]) / (float (len (numbers) - 1))\n",
    "    return math.sqrt (variance)\n",
    "\n",
    "def getsummary (dataset):\n",
    "    summaries = [(mean (a), std (a)) for a in zip (*dataset)]\n",
    "    del summaries [-1]\n",
    "    return summaries\n",
    "def summary_by_class (dataset):\n",
    "    seperate = seperate_by_class (dataset)\n",
    "    summaries = {}\n",
    "    for classValue, instance in seperate.items ():\n",
    "        summaries [ classValue] = getsummary (instance)\n",
    "    return summaries\n",
    "def calculate_pro (x, mean, std):\n",
    "    exponent = math.exp (- (math.pow (x - mean, 2))/(2*math.pow (std, 2)))\n",
    "    return (1/ (math.sqrt (2*math.pi)) * std) * exponent\n",
    "def probablity_by_class (summaries, inputvector):\n",
    "    probablity = {}\n",
    "    for classValue, summary in summaries.items ():\n",
    "        probablity[classValue] = 1\n",
    "        \n",
    "        for i in range (len (summary)):\n",
    "            mean, std = summary[i]\n",
    "            x = inputvector [i]\n",
    "            \n",
    "            probablity[classValue] *= calculate_pro (x, mean, std)\n",
    "    return probablity\n",
    "def predict (summaries, inputvector):\n",
    "    bestLabel, bestprob = None, -1\n",
    "    probability = probablity_by_class (summaries, inputvector)\n",
    "    for classLabel, prob in probability.items ():\n",
    "        if bestLabel is None or prob > bestprob:\n",
    "            bestprob = prob\n",
    "            bestLabel = classLabel\n",
    "    return bestLabel\n",
    "\n",
    "def getpredictions (summaries, testdata):\n",
    "    predictions = []\n",
    "    for i in range (len (testdata)):\n",
    "        result = predict (summaries, testdata[i])\n",
    "        predictions.append (result)\n",
    "    return predictions\n",
    "def getAccuracy (predictions, testdata):\n",
    "    correct = 0\n",
    "    for i in range (len (testdata)):\n",
    "        if (testdata[i][-1] == predictions[i]):\n",
    "            correct += 1\n",
    "    return (correct / len (testdata)) * 100\n",
    "def main ():\n",
    "    filename = \"5_pima-indians-diabetes.csv\"\n",
    "    split_ratio = 0.67\n",
    "    \n",
    "    dataset = load_data (filename)\n",
    "    \n",
    "    trainset, testset = split_data (dataset, split_ratio)\n",
    "    \n",
    "    print (len (dataset), len (trainset), len (testset))\n",
    "    \n",
    "    summaries = summary_by_class (trainset)\n",
    "    \n",
    "    predictions = getpredictions (summaries, testset)\n",
    "    \n",
    "    accuracy = getAccuracy (predictions, testset)\n",
    "    \n",
    "    print (accuracy)\n",
    "main ()\n",
    "    \n",
    "        "
   ]
  },
  {
   "cell_type": "code",
   "execution_count": null,
   "id": "dac4f50d",
   "metadata": {},
   "outputs": [],
   "source": []
  }
 ],
 "metadata": {
  "kernelspec": {
   "display_name": "Python 3 (ipykernel)",
   "language": "python",
   "name": "python3"
  },
  "language_info": {
   "codemirror_mode": {
    "name": "ipython",
    "version": 3
   },
   "file_extension": ".py",
   "mimetype": "text/x-python",
   "name": "python",
   "nbconvert_exporter": "python",
   "pygments_lexer": "ipython3",
   "version": "3.9.13"
  }
 },
 "nbformat": 4,
 "nbformat_minor": 5
}
